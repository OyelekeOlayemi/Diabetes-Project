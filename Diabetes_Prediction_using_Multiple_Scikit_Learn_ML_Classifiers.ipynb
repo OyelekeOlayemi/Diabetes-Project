{
  "nbformat": 4,
  "nbformat_minor": 0,
  "metadata": {
    "kernelspec": {
      "display_name": "Python 3",
      "language": "python",
      "name": "python3"
    },
    "language_info": {
      "codemirror_mode": {
        "name": "ipython",
        "version": 3
      },
      "file_extension": ".py",
      "mimetype": "text/x-python",
      "name": "python",
      "nbconvert_exporter": "python",
      "pygments_lexer": "ipython3",
      "version": "3.7.1"
    },
    "colab": {
      "name": "Diabetes Prediction using Multiple Scikit-Learn ML Classifiers.ipynb",
      "provenance": [],
      "include_colab_link": true
    }
  },
  "cells": [
    {
      "cell_type": "markdown",
      "metadata": {
        "id": "view-in-github",
        "colab_type": "text"
      },
      "source": [
        "<a href=\"https://colab.research.google.com/github/OyelekeOlayemi/Diabetes-Project/blob/master/Diabetes_Prediction_using_Multiple_Scikit_Learn_ML_Classifiers.ipynb\" target=\"_parent\"><img src=\"https://colab.research.google.com/assets/colab-badge.svg\" alt=\"Open In Colab\"/></a>"
      ]
    },
    {
      "cell_type": "markdown",
      "metadata": {
        "id": "upaO1Ppj1rT7",
        "colab_type": "text"
      },
      "source": [
        "# Import Libraries "
      ]
    },
    {
      "cell_type": "code",
      "metadata": {
        "id": "k66SBQM_1rT_",
        "colab_type": "code",
        "colab": {
          "base_uri": "https://localhost:8080/",
          "height": 71
        },
        "outputId": "e0bc870a-e28e-4f21-ef96-96fab8e9c61e"
      },
      "source": [
        "import sklearn\n",
        "from sklearn.preprocessing import StandardScaler\n",
        "import pandas as pd\n",
        "import numpy as np\n",
        "import seaborn as sns\n",
        "import matplotlib.pyplot as plt"
      ],
      "execution_count": 1,
      "outputs": [
        {
          "output_type": "stream",
          "text": [
            "/usr/local/lib/python3.6/dist-packages/statsmodels/tools/_testing.py:19: FutureWarning: pandas.util.testing is deprecated. Use the functions in the public API at pandas.testing instead.\n",
            "  import pandas.util.testing as tm\n"
          ],
          "name": "stderr"
        }
      ]
    },
    {
      "cell_type": "code",
      "metadata": {
        "id": "p4BCZVsL2-DA",
        "colab_type": "code",
        "colab": {
          "base_uri": "https://localhost:8080/",
          "height": 122
        },
        "outputId": "b54a87af-e0b5-4c20-a211-f920c05ff006"
      },
      "source": [
        "from google.colab import drive\n",
        "drive.mount ('/content/drive')"
      ],
      "execution_count": 5,
      "outputs": [
        {
          "output_type": "stream",
          "text": [
            "Go to this URL in a browser: https://accounts.google.com/o/oauth2/auth?client_id=947318989803-6bn6qk8qdgf4n4g3pfee6491hc0brc4i.apps.googleusercontent.com&redirect_uri=urn%3aietf%3awg%3aoauth%3a2.0%3aoob&response_type=code&scope=email%20https%3a%2f%2fwww.googleapis.com%2fauth%2fdocs.test%20https%3a%2f%2fwww.googleapis.com%2fauth%2fdrive%20https%3a%2f%2fwww.googleapis.com%2fauth%2fdrive.photos.readonly%20https%3a%2f%2fwww.googleapis.com%2fauth%2fpeopleapi.readonly\n",
            "\n",
            "Enter your authorization code:\n",
            "··········\n",
            "Mounted at /content/drive\n"
          ],
          "name": "stdout"
        }
      ]
    },
    {
      "cell_type": "code",
      "metadata": {
        "id": "T4mIv59132nj",
        "colab_type": "code",
        "colab": {
          "base_uri": "https://localhost:8080/",
          "height": 612
        },
        "outputId": "8ecb4e92-3f65-4f4c-c382-8033e9f9fcab"
      },
      "source": [
        "import os\n",
        "os.chdir('/content/drive/My Drive')\n",
        "!ls"
      ],
      "execution_count": 7,
      "outputs": [
        {
          "output_type": "stream",
          "text": [
            " 6fa12b40cd69abbf97f15c8f8068c187.png\n",
            "'Colab Notebooks'\n",
            "'datalab banner.jpg'\n",
            "'Datalab Brochures'\n",
            "'DataLab Python Brochure.pdf'\n",
            "'data science courses in Nigeria.jpg'\n",
            "'data science meetup 1.png'\n",
            "'data science meetup 2.png'\n",
            "'data science meetup 3.png'\n",
            "'data science meetup bola 2.png'\n",
            "'data science meetup Bola.png'\n",
            "'data science meetup collins 1.png'\n",
            "'data science meetup collins 2.png'\n",
            "'data science meetup collins 3.png'\n",
            "'Data Science Meetup Group.png'\n",
            "'data science meetup victor 1.png'\n",
            "'data science meetup yemi 1.png'\n",
            "'data science meetup yemi 2.png'\n",
            "'data science meetup yemi 3.png'\n",
            "'data science training in nigeria 1.png'\n",
            "'data science training in nigeria 2.png'\n",
            "'data science training in nigeria 3.png'\n",
            "'data science training in nigeria 4.png'\n",
            "'data science training in nigeria 5.png'\n",
            " diabetes_processed.csv\n",
            "'Getting started.pdf'\n",
            "'Google Review.PNG'\n",
            "'https:  datalab.com.ng  Performance 2020-01-07 (1).gsheet'\n",
            "'https:  datalab.com.ng  Performance 2020-01-07.gsheet'\n",
            "'LOGO 3.jpg'\n",
            "'School Budget Training Data.csv'\n",
            " Untitled\n",
            "'Untitled document.gdoc'\n",
            "'Video from Olayemi'\n",
            "'yemi pic.png'\n"
          ],
          "name": "stdout"
        }
      ]
    },
    {
      "cell_type": "code",
      "metadata": {
        "id": "SB4XfJaG2-Zi",
        "colab_type": "code",
        "colab": {}
      },
      "source": [
        ""
      ],
      "execution_count": 0,
      "outputs": []
    },
    {
      "cell_type": "markdown",
      "metadata": {
        "id": "HZB4zRt11rUL",
        "colab_type": "text"
      },
      "source": [
        "# Data Exploration"
      ]
    },
    {
      "cell_type": "code",
      "metadata": {
        "id": "xzjDRokk1rUN",
        "colab_type": "code",
        "colab": {
          "base_uri": "https://localhost:8080/",
          "height": 359
        },
        "outputId": "5b609791-481a-4d3e-faf6-b720f39fe207"
      },
      "source": [
        "diabetes_data = pd.read_csv('diabetes_processed.csv')\n",
        "diabetes_data.head(10)\n",
        "#Our task here is to predict if a person is diabetic or not diabetic using the person other features"
      ],
      "execution_count": 8,
      "outputs": [
        {
          "output_type": "execute_result",
          "data": {
            "text/html": [
              "<div>\n",
              "<style scoped>\n",
              "    .dataframe tbody tr th:only-of-type {\n",
              "        vertical-align: middle;\n",
              "    }\n",
              "\n",
              "    .dataframe tbody tr th {\n",
              "        vertical-align: top;\n",
              "    }\n",
              "\n",
              "    .dataframe thead th {\n",
              "        text-align: right;\n",
              "    }\n",
              "</style>\n",
              "<table border=\"1\" class=\"dataframe\">\n",
              "  <thead>\n",
              "    <tr style=\"text-align: right;\">\n",
              "      <th></th>\n",
              "      <th>Pregnancies</th>\n",
              "      <th>Glucose</th>\n",
              "      <th>BloodPressure</th>\n",
              "      <th>SkinThickness</th>\n",
              "      <th>Insulin</th>\n",
              "      <th>BMI</th>\n",
              "      <th>DiabetesPedigreeFunction</th>\n",
              "      <th>Age</th>\n",
              "      <th>Outcome</th>\n",
              "    </tr>\n",
              "  </thead>\n",
              "  <tbody>\n",
              "    <tr>\n",
              "      <th>0</th>\n",
              "      <td>6.0</td>\n",
              "      <td>148.0</td>\n",
              "      <td>72.000000</td>\n",
              "      <td>35.0</td>\n",
              "      <td>155.548223</td>\n",
              "      <td>33.6</td>\n",
              "      <td>0.627</td>\n",
              "      <td>50.0</td>\n",
              "      <td>1</td>\n",
              "    </tr>\n",
              "    <tr>\n",
              "      <th>1</th>\n",
              "      <td>1.0</td>\n",
              "      <td>85.0</td>\n",
              "      <td>66.000000</td>\n",
              "      <td>29.0</td>\n",
              "      <td>155.548223</td>\n",
              "      <td>26.6</td>\n",
              "      <td>0.351</td>\n",
              "      <td>31.0</td>\n",
              "      <td>0</td>\n",
              "    </tr>\n",
              "    <tr>\n",
              "      <th>2</th>\n",
              "      <td>8.0</td>\n",
              "      <td>183.0</td>\n",
              "      <td>64.000000</td>\n",
              "      <td>32.0</td>\n",
              "      <td>155.548223</td>\n",
              "      <td>23.3</td>\n",
              "      <td>0.672</td>\n",
              "      <td>32.0</td>\n",
              "      <td>1</td>\n",
              "    </tr>\n",
              "    <tr>\n",
              "      <th>3</th>\n",
              "      <td>1.0</td>\n",
              "      <td>89.0</td>\n",
              "      <td>66.000000</td>\n",
              "      <td>23.0</td>\n",
              "      <td>94.000000</td>\n",
              "      <td>28.1</td>\n",
              "      <td>0.167</td>\n",
              "      <td>21.0</td>\n",
              "      <td>0</td>\n",
              "    </tr>\n",
              "    <tr>\n",
              "      <th>4</th>\n",
              "      <td>0.0</td>\n",
              "      <td>137.0</td>\n",
              "      <td>40.000000</td>\n",
              "      <td>35.0</td>\n",
              "      <td>168.000000</td>\n",
              "      <td>43.1</td>\n",
              "      <td>2.288</td>\n",
              "      <td>33.0</td>\n",
              "      <td>1</td>\n",
              "    </tr>\n",
              "    <tr>\n",
              "      <th>5</th>\n",
              "      <td>5.0</td>\n",
              "      <td>116.0</td>\n",
              "      <td>74.000000</td>\n",
              "      <td>32.0</td>\n",
              "      <td>155.548223</td>\n",
              "      <td>25.6</td>\n",
              "      <td>0.201</td>\n",
              "      <td>30.0</td>\n",
              "      <td>0</td>\n",
              "    </tr>\n",
              "    <tr>\n",
              "      <th>6</th>\n",
              "      <td>3.0</td>\n",
              "      <td>78.0</td>\n",
              "      <td>50.000000</td>\n",
              "      <td>32.0</td>\n",
              "      <td>88.000000</td>\n",
              "      <td>31.0</td>\n",
              "      <td>0.248</td>\n",
              "      <td>26.0</td>\n",
              "      <td>1</td>\n",
              "    </tr>\n",
              "    <tr>\n",
              "      <th>7</th>\n",
              "      <td>10.0</td>\n",
              "      <td>115.0</td>\n",
              "      <td>72.405184</td>\n",
              "      <td>32.0</td>\n",
              "      <td>155.548223</td>\n",
              "      <td>35.3</td>\n",
              "      <td>0.134</td>\n",
              "      <td>29.0</td>\n",
              "      <td>0</td>\n",
              "    </tr>\n",
              "    <tr>\n",
              "      <th>8</th>\n",
              "      <td>2.0</td>\n",
              "      <td>197.0</td>\n",
              "      <td>70.000000</td>\n",
              "      <td>45.0</td>\n",
              "      <td>543.000000</td>\n",
              "      <td>30.5</td>\n",
              "      <td>0.158</td>\n",
              "      <td>53.0</td>\n",
              "      <td>1</td>\n",
              "    </tr>\n",
              "    <tr>\n",
              "      <th>9</th>\n",
              "      <td>8.0</td>\n",
              "      <td>125.0</td>\n",
              "      <td>96.000000</td>\n",
              "      <td>32.0</td>\n",
              "      <td>155.548223</td>\n",
              "      <td>32.0</td>\n",
              "      <td>0.232</td>\n",
              "      <td>54.0</td>\n",
              "      <td>1</td>\n",
              "    </tr>\n",
              "  </tbody>\n",
              "</table>\n",
              "</div>"
            ],
            "text/plain": [
              "   Pregnancies  Glucose  BloodPressure  ...  DiabetesPedigreeFunction   Age  Outcome\n",
              "0          6.0    148.0      72.000000  ...                     0.627  50.0        1\n",
              "1          1.0     85.0      66.000000  ...                     0.351  31.0        0\n",
              "2          8.0    183.0      64.000000  ...                     0.672  32.0        1\n",
              "3          1.0     89.0      66.000000  ...                     0.167  21.0        0\n",
              "4          0.0    137.0      40.000000  ...                     2.288  33.0        1\n",
              "5          5.0    116.0      74.000000  ...                     0.201  30.0        0\n",
              "6          3.0     78.0      50.000000  ...                     0.248  26.0        1\n",
              "7         10.0    115.0      72.405184  ...                     0.134  29.0        0\n",
              "8          2.0    197.0      70.000000  ...                     0.158  53.0        1\n",
              "9          8.0    125.0      96.000000  ...                     0.232  54.0        1\n",
              "\n",
              "[10 rows x 9 columns]"
            ]
          },
          "metadata": {
            "tags": []
          },
          "execution_count": 8
        }
      ]
    },
    {
      "cell_type": "code",
      "metadata": {
        "id": "U46wRgv_1rUl",
        "colab_type": "code",
        "colab": {
          "base_uri": "https://localhost:8080/",
          "height": 34
        },
        "outputId": "4f34b6a0-3bfa-4847-f4be-64906f4c1d22"
      },
      "source": [
        "#Check the number of roles and columns in the dataset\n",
        "diabetes_data.shape"
      ],
      "execution_count": 9,
      "outputs": [
        {
          "output_type": "execute_result",
          "data": {
            "text/plain": [
              "(768, 9)"
            ]
          },
          "metadata": {
            "tags": []
          },
          "execution_count": 9
        }
      ]
    },
    {
      "cell_type": "code",
      "metadata": {
        "id": "wWzkLB641rUz",
        "colab_type": "code",
        "colab": {},
        "outputId": "055cfb6b-7d20-4e42-97e1-409a364e8e85"
      },
      "source": [
        "#Verify if any null value exist in the dataset\n",
        "diabetes_data.isnull().sum()"
      ],
      "execution_count": 0,
      "outputs": [
        {
          "output_type": "execute_result",
          "data": {
            "text/plain": [
              "Pregnancies                 0\n",
              "Glucose                     0\n",
              "BloodPressure               0\n",
              "SkinThickness               0\n",
              "Insulin                     0\n",
              "BMI                         0\n",
              "DiabetesPedigreeFunction    0\n",
              "Age                         0\n",
              "Outcome                     0\n",
              "dtype: int64"
            ]
          },
          "metadata": {
            "tags": []
          },
          "execution_count": 376
        }
      ]
    },
    {
      "cell_type": "code",
      "metadata": {
        "id": "kdSSD0yK1rU9",
        "colab_type": "code",
        "colab": {},
        "outputId": "54def75a-45c1-4f93-8c87-7c6dd3ae45da"
      },
      "source": [
        "#Get to know columns data types\n",
        "diabetes_data.info()"
      ],
      "execution_count": 0,
      "outputs": [
        {
          "output_type": "stream",
          "text": [
            "<class 'pandas.core.frame.DataFrame'>\n",
            "RangeIndex: 768 entries, 0 to 767\n",
            "Data columns (total 9 columns):\n",
            " #   Column                    Non-Null Count  Dtype  \n",
            "---  ------                    --------------  -----  \n",
            " 0   Pregnancies               768 non-null    float64\n",
            " 1   Glucose                   768 non-null    float64\n",
            " 2   BloodPressure             768 non-null    float64\n",
            " 3   SkinThickness             768 non-null    float64\n",
            " 4   Insulin                   768 non-null    float64\n",
            " 5   BMI                       768 non-null    float64\n",
            " 6   DiabetesPedigreeFunction  768 non-null    float64\n",
            " 7   Age                       768 non-null    float64\n",
            " 8   Outcome                   768 non-null    int64  \n",
            "dtypes: float64(8), int64(1)\n",
            "memory usage: 54.1 KB\n"
          ],
          "name": "stdout"
        }
      ]
    },
    {
      "cell_type": "code",
      "metadata": {
        "id": "qOmTqPZj1rVK",
        "colab_type": "code",
        "colab": {}
      },
      "source": [
        "#Scale our dataset, except for the target column (Outcome). Most machine learning classifiers prefer this\n",
        "from sklearn.preprocessing import StandardScaler\n",
        "cols_to_norm = ['Pregnancies','Glucose','BloodPressure','SkinThickness','Insulin','BMI','DiabetesPedigreeFunction','Age']\n",
        "diabetes_data[cols_to_norm] = StandardScaler().fit_transform(diabetes_data[cols_to_norm])"
      ],
      "execution_count": 0,
      "outputs": []
    },
    {
      "cell_type": "code",
      "metadata": {
        "id": "G3_uHz6j1rVZ",
        "colab_type": "code",
        "colab": {},
        "outputId": "10506e80-eadb-445d-c4ea-597ea6cc7e1f"
      },
      "source": [
        "#View the final scaled data\n",
        "diabetes_data"
      ],
      "execution_count": 0,
      "outputs": [
        {
          "output_type": "execute_result",
          "data": {
            "text/html": [
              "<div>\n",
              "<style scoped>\n",
              "    .dataframe tbody tr th:only-of-type {\n",
              "        vertical-align: middle;\n",
              "    }\n",
              "\n",
              "    .dataframe tbody tr th {\n",
              "        vertical-align: top;\n",
              "    }\n",
              "\n",
              "    .dataframe thead th {\n",
              "        text-align: right;\n",
              "    }\n",
              "</style>\n",
              "<table border=\"1\" class=\"dataframe\">\n",
              "  <thead>\n",
              "    <tr style=\"text-align: right;\">\n",
              "      <th></th>\n",
              "      <th>Pregnancies</th>\n",
              "      <th>Glucose</th>\n",
              "      <th>BloodPressure</th>\n",
              "      <th>SkinThickness</th>\n",
              "      <th>Insulin</th>\n",
              "      <th>BMI</th>\n",
              "      <th>DiabetesPedigreeFunction</th>\n",
              "      <th>Age</th>\n",
              "      <th>Outcome</th>\n",
              "    </tr>\n",
              "  </thead>\n",
              "  <tbody>\n",
              "    <tr>\n",
              "      <th>0</th>\n",
              "      <td>0.639947</td>\n",
              "      <td>0.866045</td>\n",
              "      <td>-0.033518</td>\n",
              "      <td>0.563604</td>\n",
              "      <td>-3.345079e-16</td>\n",
              "      <td>0.167240</td>\n",
              "      <td>0.468492</td>\n",
              "      <td>1.425995</td>\n",
              "      <td>1</td>\n",
              "    </tr>\n",
              "    <tr>\n",
              "      <th>1</th>\n",
              "      <td>-0.844885</td>\n",
              "      <td>-1.205066</td>\n",
              "      <td>-0.529859</td>\n",
              "      <td>-0.112017</td>\n",
              "      <td>-3.345079e-16</td>\n",
              "      <td>-0.851551</td>\n",
              "      <td>-0.365061</td>\n",
              "      <td>-0.190672</td>\n",
              "      <td>0</td>\n",
              "    </tr>\n",
              "    <tr>\n",
              "      <th>2</th>\n",
              "      <td>1.233880</td>\n",
              "      <td>2.016662</td>\n",
              "      <td>-0.695306</td>\n",
              "      <td>0.225793</td>\n",
              "      <td>-3.345079e-16</td>\n",
              "      <td>-1.331838</td>\n",
              "      <td>0.604397</td>\n",
              "      <td>-0.105584</td>\n",
              "      <td>1</td>\n",
              "    </tr>\n",
              "    <tr>\n",
              "      <th>3</th>\n",
              "      <td>-0.844885</td>\n",
              "      <td>-1.073567</td>\n",
              "      <td>-0.529859</td>\n",
              "      <td>-0.787638</td>\n",
              "      <td>-7.243887e-01</td>\n",
              "      <td>-0.633239</td>\n",
              "      <td>-0.920763</td>\n",
              "      <td>-1.041549</td>\n",
              "      <td>0</td>\n",
              "    </tr>\n",
              "    <tr>\n",
              "      <th>4</th>\n",
              "      <td>-1.141852</td>\n",
              "      <td>0.504422</td>\n",
              "      <td>-2.680669</td>\n",
              "      <td>0.563604</td>\n",
              "      <td>1.465506e-01</td>\n",
              "      <td>1.549885</td>\n",
              "      <td>5.484909</td>\n",
              "      <td>-0.020496</td>\n",
              "      <td>1</td>\n",
              "    </tr>\n",
              "    <tr>\n",
              "      <th>...</th>\n",
              "      <td>...</td>\n",
              "      <td>...</td>\n",
              "      <td>...</td>\n",
              "      <td>...</td>\n",
              "      <td>...</td>\n",
              "      <td>...</td>\n",
              "      <td>...</td>\n",
              "      <td>...</td>\n",
              "      <td>...</td>\n",
              "    </tr>\n",
              "    <tr>\n",
              "      <th>763</th>\n",
              "      <td>1.827813</td>\n",
              "      <td>-0.679069</td>\n",
              "      <td>0.297376</td>\n",
              "      <td>2.027450</td>\n",
              "      <td>2.877840e-01</td>\n",
              "      <td>0.065361</td>\n",
              "      <td>-0.908682</td>\n",
              "      <td>2.532136</td>\n",
              "      <td>0</td>\n",
              "    </tr>\n",
              "    <tr>\n",
              "      <th>764</th>\n",
              "      <td>-0.547919</td>\n",
              "      <td>0.011301</td>\n",
              "      <td>-0.198965</td>\n",
              "      <td>-0.337224</td>\n",
              "      <td>-3.345079e-16</td>\n",
              "      <td>0.632973</td>\n",
              "      <td>-0.398282</td>\n",
              "      <td>-0.531023</td>\n",
              "      <td>0</td>\n",
              "    </tr>\n",
              "    <tr>\n",
              "      <th>765</th>\n",
              "      <td>0.342981</td>\n",
              "      <td>-0.021574</td>\n",
              "      <td>-0.033518</td>\n",
              "      <td>-0.787638</td>\n",
              "      <td>-5.125386e-01</td>\n",
              "      <td>-0.909768</td>\n",
              "      <td>-0.685193</td>\n",
              "      <td>-0.275760</td>\n",
              "      <td>0</td>\n",
              "    </tr>\n",
              "    <tr>\n",
              "      <th>766</th>\n",
              "      <td>-0.844885</td>\n",
              "      <td>0.142800</td>\n",
              "      <td>-1.026200</td>\n",
              "      <td>0.225793</td>\n",
              "      <td>-3.345079e-16</td>\n",
              "      <td>-0.342155</td>\n",
              "      <td>-0.371101</td>\n",
              "      <td>1.170732</td>\n",
              "      <td>1</td>\n",
              "    </tr>\n",
              "    <tr>\n",
              "      <th>767</th>\n",
              "      <td>-0.844885</td>\n",
              "      <td>-0.942068</td>\n",
              "      <td>-0.198965</td>\n",
              "      <td>0.113190</td>\n",
              "      <td>-3.345079e-16</td>\n",
              "      <td>-0.298493</td>\n",
              "      <td>-0.473785</td>\n",
              "      <td>-0.871374</td>\n",
              "      <td>0</td>\n",
              "    </tr>\n",
              "  </tbody>\n",
              "</table>\n",
              "<p>768 rows × 9 columns</p>\n",
              "</div>"
            ],
            "text/plain": [
              "     Pregnancies   Glucose  BloodPressure  SkinThickness       Insulin  \\\n",
              "0       0.639947  0.866045      -0.033518       0.563604 -3.345079e-16   \n",
              "1      -0.844885 -1.205066      -0.529859      -0.112017 -3.345079e-16   \n",
              "2       1.233880  2.016662      -0.695306       0.225793 -3.345079e-16   \n",
              "3      -0.844885 -1.073567      -0.529859      -0.787638 -7.243887e-01   \n",
              "4      -1.141852  0.504422      -2.680669       0.563604  1.465506e-01   \n",
              "..           ...       ...            ...            ...           ...   \n",
              "763     1.827813 -0.679069       0.297376       2.027450  2.877840e-01   \n",
              "764    -0.547919  0.011301      -0.198965      -0.337224 -3.345079e-16   \n",
              "765     0.342981 -0.021574      -0.033518      -0.787638 -5.125386e-01   \n",
              "766    -0.844885  0.142800      -1.026200       0.225793 -3.345079e-16   \n",
              "767    -0.844885 -0.942068      -0.198965       0.113190 -3.345079e-16   \n",
              "\n",
              "          BMI  DiabetesPedigreeFunction       Age  Outcome  \n",
              "0    0.167240                  0.468492  1.425995        1  \n",
              "1   -0.851551                 -0.365061 -0.190672        0  \n",
              "2   -1.331838                  0.604397 -0.105584        1  \n",
              "3   -0.633239                 -0.920763 -1.041549        0  \n",
              "4    1.549885                  5.484909 -0.020496        1  \n",
              "..        ...                       ...       ...      ...  \n",
              "763  0.065361                 -0.908682  2.532136        0  \n",
              "764  0.632973                 -0.398282 -0.531023        0  \n",
              "765 -0.909768                 -0.685193 -0.275760        0  \n",
              "766 -0.342155                 -0.371101  1.170732        1  \n",
              "767 -0.298493                 -0.473785 -0.871374        0  \n",
              "\n",
              "[768 rows x 9 columns]"
            ]
          },
          "metadata": {
            "tags": []
          },
          "execution_count": 379
        }
      ]
    },
    {
      "cell_type": "markdown",
      "metadata": {
        "id": "hasPZ47p1rVo",
        "colab_type": "text"
      },
      "source": [
        "# Implementing Multiple Machine Learning Algorithms on the Dataset "
      ]
    },
    {
      "cell_type": "markdown",
      "metadata": {
        "id": "cauCkjy11rVq",
        "colab_type": "text"
      },
      "source": [
        "1. Logistic Regression\n",
        "2. Decision Tree Classifier\n",
        "3. Random Forest Classifier\n",
        "4. Naive Bayes Classifier\n",
        "5. Support Vector Classifierent \n",
        "6. K-Nearest Neighbors Classifier\n",
        "7. Gradient Boosting Classifier\n",
        "8. Adaboost Classifier"
      ]
    },
    {
      "cell_type": "markdown",
      "metadata": {
        "id": "TB384cJm1rVs",
        "colab_type": "text"
      },
      "source": [
        "#Our task here is to predict if a person is diabetic or not diabetic using the person other features"
      ]
    },
    {
      "cell_type": "markdown",
      "metadata": {
        "id": "BIu2Awtg1rVu",
        "colab_type": "text"
      },
      "source": [
        "#Scikit-Learn provides these machine learning classifiers and functions to achieve this"
      ]
    },
    {
      "cell_type": "code",
      "metadata": {
        "id": "vTepYHAv1rVv",
        "colab_type": "code",
        "colab": {}
      },
      "source": [
        "from sklearn.model_selection import train_test_split\n",
        "from sklearn.linear_model import LogisticRegression\n",
        "from sklearn.naive_bayes import GaussianNB\n",
        "from sklearn.svm import SVC\n",
        "svclassifier = SVC(kernel='linear',probability=True)\n",
        "from sklearn.tree import DecisionTreeClassifier\n",
        "from sklearn.ensemble import RandomForestClassifier\n",
        "from sklearn.ensemble import GradientBoostingClassifier\n",
        "from sklearn.neighbors import KNeighborsClassifier\n",
        "from sklearn.ensemble import AdaBoostClassifier\n",
        "from sklearn.metrics import accuracy_score\n",
        "from sklearn.metrics import roc_auc_score\n",
        "from sklearn.metrics import roc_curve \n",
        "from sklearn.metrics import confusion_matrix\n",
        "from sklearn.model_selection import cross_val_score"
      ],
      "execution_count": 0,
      "outputs": []
    },
    {
      "cell_type": "code",
      "metadata": {
        "id": "Lw9QFakL1rWA",
        "colab_type": "code",
        "colab": {}
      },
      "source": [
        "# x are all our features (after droping our target 'Outcome')\n",
        "# y is the target we are trying to predict (that is Outcome)\n",
        "x = diabetes_data.drop('Outcome', axis=1)\n",
        "y = diabetes_data['Outcome']"
      ],
      "execution_count": 0,
      "outputs": []
    },
    {
      "cell_type": "code",
      "metadata": {
        "id": "BfE_H_CK1rWM",
        "colab_type": "code",
        "colab": {}
      },
      "source": [
        "#Split our dataset into two: \n",
        "\n",
        "#1. Training data to train all our classifiers on real data and\n",
        "#2. Test data to evaluate their performance on unseen data\n",
        "\n",
        "x_train,x_test,y_train,y_test = train_test_split(x,y,test_size=0.2,random_state=0)\n",
        "\n",
        "#Test size is 0.2 means we would be training each of our classifiers with 80% of the data \n",
        "#and validating them with the remaining 20%.\n",
        "\n",
        "# x_train - 80% Fraction of our features for training our classifiers algorithms\n",
        "# y_train - 80% Fraction of the matching target for training our classifiers algorithms\n",
        "\n",
        "# x_test - 20% hold-out fraction of our features for testing the performance of our classifiers \n",
        "# from the training phase above by producing - \"y_pred\".\n",
        "\n",
        "# y_test - 20% hold-out fraction of our matching target. This is used in comparing actuals (y_test) with y_pred (predictions made)\n",
        "\n",
        "#Random state guarantee that same sequence of random numbers are generated for training each of our classifiers"
      ],
      "execution_count": 0,
      "outputs": []
    },
    {
      "cell_type": "code",
      "metadata": {
        "id": "yICwnZ7p1rWY",
        "colab_type": "code",
        "colab": {},
        "outputId": "0f6f47d7-5351-40ce-dc19-e3bf272f0ce4"
      },
      "source": [
        "x_train.shape"
      ],
      "execution_count": 0,
      "outputs": [
        {
          "output_type": "execute_result",
          "data": {
            "text/plain": [
              "(614, 8)"
            ]
          },
          "metadata": {
            "tags": []
          },
          "execution_count": 411
        }
      ]
    },
    {
      "cell_type": "code",
      "metadata": {
        "id": "nWj5SiDr1rWh",
        "colab_type": "code",
        "colab": {},
        "outputId": "65910210-59b8-4665-e1f8-b02cd8e30430"
      },
      "source": [
        "y_train.shape"
      ],
      "execution_count": 0,
      "outputs": [
        {
          "output_type": "execute_result",
          "data": {
            "text/plain": [
              "(614,)"
            ]
          },
          "metadata": {
            "tags": []
          },
          "execution_count": 412
        }
      ]
    },
    {
      "cell_type": "code",
      "metadata": {
        "id": "eVuRoGW61rWv",
        "colab_type": "code",
        "colab": {},
        "outputId": "f2da5ced-3de2-4120-8efc-3b541c519342"
      },
      "source": [
        "#80% of target variable (Outcome) - 614 records\n",
        "y_train"
      ],
      "execution_count": 0,
      "outputs": [
        {
          "output_type": "execute_result",
          "data": {
            "text/plain": [
              "603    1\n",
              "118    0\n",
              "247    0\n",
              "157    0\n",
              "468    1\n",
              "      ..\n",
              "763    0\n",
              "192    1\n",
              "629    0\n",
              "559    0\n",
              "684    0\n",
              "Name: Outcome, Length: 614, dtype: int64"
            ]
          },
          "metadata": {
            "tags": []
          },
          "execution_count": 413
        }
      ]
    },
    {
      "cell_type": "code",
      "metadata": {
        "id": "wv1QWn-81rW7",
        "colab_type": "code",
        "colab": {},
        "outputId": "e7f7784d-3de5-4c9b-cdef-6c4cfadf4027"
      },
      "source": [
        "x_test.shape"
      ],
      "execution_count": 0,
      "outputs": [
        {
          "output_type": "execute_result",
          "data": {
            "text/plain": [
              "(154, 8)"
            ]
          },
          "metadata": {
            "tags": []
          },
          "execution_count": 414
        }
      ]
    },
    {
      "cell_type": "code",
      "metadata": {
        "id": "PrnV2zNq1rXB",
        "colab_type": "code",
        "colab": {},
        "outputId": "a54698f1-f35b-4705-ec3f-22f761d841cb"
      },
      "source": [
        "y_test.shape"
      ],
      "execution_count": 0,
      "outputs": [
        {
          "output_type": "execute_result",
          "data": {
            "text/plain": [
              "(154,)"
            ]
          },
          "metadata": {
            "tags": []
          },
          "execution_count": 415
        }
      ]
    },
    {
      "cell_type": "code",
      "metadata": {
        "id": "RnBuIucD1rXH",
        "colab_type": "code",
        "colab": {},
        "outputId": "ece91b3a-9a90-4422-90c9-ea8fc63df51e"
      },
      "source": [
        "#20% of target variable (Outcome) - 154 records\n",
        "y_test"
      ],
      "execution_count": 0,
      "outputs": [
        {
          "output_type": "execute_result",
          "data": {
            "text/plain": [
              "661    1\n",
              "122    0\n",
              "113    0\n",
              "14     1\n",
              "529    0\n",
              "      ..\n",
              "476    1\n",
              "482    0\n",
              "230    1\n",
              "527    0\n",
              "380    0\n",
              "Name: Outcome, Length: 154, dtype: int64"
            ]
          },
          "metadata": {
            "tags": []
          },
          "execution_count": 416
        }
      ]
    },
    {
      "cell_type": "code",
      "metadata": {
        "id": "v3fIEJCy1rXT",
        "colab_type": "code",
        "colab": {}
      },
      "source": [
        "#Define the Machine Learning Classifiers\n",
        "lr = LogisticRegression() \n",
        "gs = GaussianNB()\n",
        "sv = SVC(kernel='rbf', random_state=0)\n",
        "gb= GradientBoostingClassifier(learning_rate=0.1, n_estimators=100)\n",
        "kn = KNeighborsClassifier(n_neighbors = 18) \n",
        "ad = AdaBoostClassifier(n_estimators=100, random_state=0)\n",
        "dt = DecisionTreeClassifier()\n",
        "rf = RandomForestClassifier(n_estimators = 70)"
      ],
      "execution_count": 0,
      "outputs": []
    },
    {
      "cell_type": "code",
      "metadata": {
        "id": "A73QKuWn1rXe",
        "colab_type": "code",
        "colab": {}
      },
      "source": [
        "#Fit function trains all our machine learning classifiers on 80% of our data.\n",
        "lr.fit(x_train, y_train);\n",
        "gs.fit(x_train, y_train);\n",
        "svclassifier.fit(x_train, y_train);\n",
        "gb.fit(x_train,y_train);\n",
        "kn.fit(x_train,y_train);\n",
        "ad.fit(x_train,y_train);\n",
        "dt.fit(x_train, y_train);\n",
        "rf.fit(x_train, y_train);"
      ],
      "execution_count": 0,
      "outputs": []
    },
    {
      "cell_type": "code",
      "metadata": {
        "id": "9Hl4jOvV1rXz",
        "colab_type": "code",
        "colab": {},
        "outputId": "44c5189d-89e5-4f53-939a-3c97e3454c77"
      },
      "source": [
        "#Get individual classifiers training scores\n",
        "print(\"Training_score : \" , lr.score(x_train, y_train))\n",
        "print(\"Training_score : \" , gs.score(x_train, y_train))\n",
        "print(\"Training_score : \" , svclassifier.score(x_train, y_train))\n",
        "print(\"Training_score : \" , gb.score(x_train, y_train))\n",
        "print(\"Training_score : \" , kn.score(x_train, y_train))\n",
        "print(\"Training_score : \" , ad.score(x_train, y_train))\n",
        "print(\"Training_score : \" , dt.score(x_train, y_train))\n",
        "print(\"Training_score : \" , rf.score(x_train, y_train))\n",
        "\n",
        "#The decision tree and random forest is over-Fitting our data. The best training model is the GradientBoostingClassifier.\n",
        "\n",
        "#The Gradient Boosting Classifier is an ensemble ML that works by combining many weak learning models together \n",
        "#to create a strong predictive model (by aggregating the output from many models)."
      ],
      "execution_count": 0,
      "outputs": [
        {
          "output_type": "stream",
          "text": [
            "Training_score :  0.7671009771986971\n",
            "Training_score :  0.742671009771987\n",
            "Training_score :  0.758957654723127\n",
            "Training_score :  0.9218241042345277\n",
            "Training_score :  0.7752442996742671\n",
            "Training_score :  0.8648208469055375\n",
            "Training_score :  1.0\n",
            "Training_score :  1.0\n"
          ],
          "name": "stdout"
        }
      ]
    },
    {
      "cell_type": "code",
      "metadata": {
        "id": "OCSQg76l1rX8",
        "colab_type": "code",
        "colab": {},
        "outputId": "b3b7634a-bee3-436e-d370-e1a715fb23a3"
      },
      "source": [
        "### Get important features in the training set using our best model - Gradient Boosting Classifier\n",
        "predictors=list(x_train)\n",
        "feat_imp = pd.Series(gb.feature_importances_, predictors).sort_values(ascending=False)\n",
        "feat_imp.plot(kind='bar', title='Importance of Features')\n",
        "plt.ylabel('Feature Importance Score')\n",
        "\n",
        "#Re-print accuracy of Gradient Boosting in the training phase.\n",
        "print('Accuracy of the GBM on training set: {:.2f}'.format(gb.score(x_train, y_train)))\n",
        "\n",
        "#Glucose, BMI and Age are the only important features, \n",
        "#but Boosting help us to combine the other weak learners into a single strong learner."
      ],
      "execution_count": 0,
      "outputs": [
        {
          "output_type": "stream",
          "text": [
            "Accuracy of the GBM on training set: 0.92\n"
          ],
          "name": "stdout"
        },
        {
          "output_type": "display_data",
          "data": {
            "image/png": "[encoded data removed]",
            "text/plain": [
              "<Figure size 432x288 with 1 Axes>"
            ]
          },
          "metadata": {
            "tags": [],
            "needs_background": "light"
          }
        }
      ]
    },
    {
      "cell_type": "code",
      "metadata": {
        "id": "ROfCxA0F1rYG",
        "colab_type": "code",
        "colab": {}
      },
      "source": [
        "# Predict targets for unseen dataset (x_test) by using all our classifiers\n",
        "y_pred1 = lr.predict(x_test)\n",
        "y_pred2 = gs.predict(x_test)\n",
        "y_pred3 = svclassifier.predict(x_test)\n",
        "y_pred4 = gb.predict(x_test)\n",
        "y_pred5 = kn.predict(x_test)\n",
        "y_pred6 = ad.predict(x_test)\n",
        "y_pred7 = dt.predict(x_test)\n",
        "y_pred8 = rf.predict(x_test)"
      ],
      "execution_count": 0,
      "outputs": []
    },
    {
      "cell_type": "code",
      "metadata": {
        "id": "TkbxUCDh1rYR",
        "colab_type": "code",
        "colab": {},
        "outputId": "98228987-3ce3-42af-e8c9-ea1176e25f84"
      },
      "source": [
        "# Get accuracy score which show the predictive power of each classifier at classifying correct 'outcome'(diabetic or not)\n",
        "print(\"Testing_score : \", accuracy_score(y_test, y_pred1))\n",
        "print(\"Testing_score : \", accuracy_score(y_test, y_pred2))\n",
        "print(\"Testing_score : \", accuracy_score(y_test, y_pred3))\n",
        "print(\"Testing_score : \", accuracy_score(y_test, y_pred4))\n",
        "print(\"Testing_score : \", accuracy_score(y_test, y_pred5))\n",
        "print(\"Testing_score : \", accuracy_score(y_test, y_pred6))\n",
        "print(\"Testing_score : \", accuracy_score(y_test, y_pred7))\n",
        "print(\"Testing_score : \", accuracy_score(y_test, y_pred8))\n",
        "\n",
        "#Gradient Boosting Classifier end up being the best classifier on unseen data. \n",
        "#Logistic Regression too is fairly ok, just need tweaking."
      ],
      "execution_count": 0,
      "outputs": [
        {
          "output_type": "stream",
          "text": [
            "Testing_score :  0.8116883116883117\n",
            "Testing_score :  0.7922077922077922\n",
            "Testing_score :  0.7987012987012987\n",
            "Testing_score :  0.8181818181818182\n",
            "Testing_score :  0.8051948051948052\n",
            "Testing_score :  0.7922077922077922\n",
            "Testing_score :  0.7142857142857143\n",
            "Testing_score :  0.7987012987012987\n"
          ],
          "name": "stdout"
        }
      ]
    },
    {
      "cell_type": "code",
      "metadata": {
        "id": "UxF4Qhyf1rYb",
        "colab_type": "code",
        "colab": {}
      },
      "source": [
        "#Extract the predictions into a dataframe\n",
        "gb_results = pd.DataFrame({'y_test': y_test,\n",
        "                             'y_pred': y_pred4})"
      ],
      "execution_count": 0,
      "outputs": []
    },
    {
      "cell_type": "code",
      "metadata": {
        "id": "zMP5alQK1rYk",
        "colab_type": "code",
        "colab": {},
        "outputId": "492fdbfc-7194-4a64-e7ee-6b340dd90ea1"
      },
      "source": [
        "gb_results"
      ],
      "execution_count": 0,
      "outputs": [
        {
          "output_type": "execute_result",
          "data": {
            "text/html": [
              "<div>\n",
              "<style scoped>\n",
              "    .dataframe tbody tr th:only-of-type {\n",
              "        vertical-align: middle;\n",
              "    }\n",
              "\n",
              "    .dataframe tbody tr th {\n",
              "        vertical-align: top;\n",
              "    }\n",
              "\n",
              "    .dataframe thead th {\n",
              "        text-align: right;\n",
              "    }\n",
              "</style>\n",
              "<table border=\"1\" class=\"dataframe\">\n",
              "  <thead>\n",
              "    <tr style=\"text-align: right;\">\n",
              "      <th></th>\n",
              "      <th>y_test</th>\n",
              "      <th>y_pred</th>\n",
              "    </tr>\n",
              "  </thead>\n",
              "  <tbody>\n",
              "    <tr>\n",
              "      <th>661</th>\n",
              "      <td>1</td>\n",
              "      <td>1</td>\n",
              "    </tr>\n",
              "    <tr>\n",
              "      <th>122</th>\n",
              "      <td>0</td>\n",
              "      <td>0</td>\n",
              "    </tr>\n",
              "    <tr>\n",
              "      <th>113</th>\n",
              "      <td>0</td>\n",
              "      <td>0</td>\n",
              "    </tr>\n",
              "    <tr>\n",
              "      <th>14</th>\n",
              "      <td>1</td>\n",
              "      <td>1</td>\n",
              "    </tr>\n",
              "    <tr>\n",
              "      <th>529</th>\n",
              "      <td>0</td>\n",
              "      <td>0</td>\n",
              "    </tr>\n",
              "    <tr>\n",
              "      <th>...</th>\n",
              "      <td>...</td>\n",
              "      <td>...</td>\n",
              "    </tr>\n",
              "    <tr>\n",
              "      <th>476</th>\n",
              "      <td>1</td>\n",
              "      <td>0</td>\n",
              "    </tr>\n",
              "    <tr>\n",
              "      <th>482</th>\n",
              "      <td>0</td>\n",
              "      <td>0</td>\n",
              "    </tr>\n",
              "    <tr>\n",
              "      <th>230</th>\n",
              "      <td>1</td>\n",
              "      <td>0</td>\n",
              "    </tr>\n",
              "    <tr>\n",
              "      <th>527</th>\n",
              "      <td>0</td>\n",
              "      <td>0</td>\n",
              "    </tr>\n",
              "    <tr>\n",
              "      <th>380</th>\n",
              "      <td>0</td>\n",
              "      <td>0</td>\n",
              "    </tr>\n",
              "  </tbody>\n",
              "</table>\n",
              "<p>154 rows × 2 columns</p>\n",
              "</div>"
            ],
            "text/plain": [
              "     y_test  y_pred\n",
              "661       1       1\n",
              "122       0       0\n",
              "113       0       0\n",
              "14        1       1\n",
              "529       0       0\n",
              "..      ...     ...\n",
              "476       1       0\n",
              "482       0       0\n",
              "230       1       0\n",
              "527       0       0\n",
              "380       0       0\n",
              "\n",
              "[154 rows x 2 columns]"
            ]
          },
          "metadata": {
            "tags": []
          },
          "execution_count": 437
        }
      ]
    },
    {
      "cell_type": "code",
      "metadata": {
        "id": "QL8iGsQz1rYz",
        "colab_type": "code",
        "colab": {},
        "outputId": "be89b77a-ab1b-4f2b-9640-ee85b0c7f01c"
      },
      "source": [
        "#Get the confusion matrix\n",
        "cf_matrix = confusion_matrix(y_test, y_pred4)\n",
        "print(cf_matrix)"
      ],
      "execution_count": 0,
      "outputs": [
        {
          "output_type": "stream",
          "text": [
            "[[91 16]\n",
            " [12 35]]\n"
          ],
          "name": "stdout"
        }
      ]
    },
    {
      "cell_type": "markdown",
      "metadata": {
        "id": "ddajtaz51rZC",
        "colab_type": "text"
      },
      "source": [
        "#### k-Fold Cross Validation using the Gradient Boosting Classifier\n",
        "K-fold Cross Validation(CV) divide the data into folds and ensure that each fold is used as a testing set at some point. \n",
        "(This ensures all folds have equal chance of featuring as test set and train set at some point)."
      ]
    },
    {
      "cell_type": "code",
      "metadata": {
        "id": "6aW1rONe1rZE",
        "colab_type": "code",
        "colab": {},
        "outputId": "538b4b84-a342-44ce-fb20-35f6041fca5f"
      },
      "source": [
        "# Evaluate the Gradiant Boosting Classifier With k-Fold Cross Validation\n",
        "kfold = KFold(n_splits=10, random_state=None)\n",
        "results = cross_val_score(gb, x, y, cv=kfold)\n",
        "print(\"Accuracy: %.2f%% (%.2f%%)\" % (results.mean()*100, results.std()*100))"
      ],
      "execution_count": 0,
      "outputs": [
        {
          "output_type": "stream",
          "text": [
            "Accuracy: 76.69% (5.80%)\n"
          ],
          "name": "stdout"
        }
      ]
    },
    {
      "cell_type": "code",
      "metadata": {
        "id": "ku1EXDRg1rZQ",
        "colab_type": "code",
        "colab": {},
        "outputId": "5b3a6ee7-1fce-446b-a66a-1503674b5cd0"
      },
      "source": [
        "#Use Seaborn to get a Graphical Confusion Matrix for our best machine learning classifier\n",
        "\n",
        "group_names = ['True Neg','False Pos','False Neg','True Pos']\n",
        "\n",
        "group_counts = [\"{0:0.0f}\".format(value) for value in\n",
        "                cf_matrix.flatten()]\n",
        "\n",
        "group_percentages = [\"{0:.2%}\".format(value) for value in\n",
        "                     cf_matrix.flatten()/np.sum(cf_matrix)]\n",
        "\n",
        "labels = [f\"{v1}\\n{v2}\\n{v3}\" for v1, v2, v3 in\n",
        "          zip(group_names,group_counts,group_percentages)]\n",
        "\n",
        "labels = np.asarray(labels).reshape(2,2)\n",
        "sns.heatmap(cf_matrix, annot=labels, fmt='', cmap='Blues')"
      ],
      "execution_count": 0,
      "outputs": [
        {
          "output_type": "execute_result",
          "data": {
            "text/plain": [
              "<matplotlib.axes._subplots.AxesSubplot at 0xc4685c0>"
            ]
          },
          "metadata": {
            "tags": []
          },
          "execution_count": 440
        },
        {
          "output_type": "display_data",
          "data": {
            "image/png": "[encoded data removed]",
            "text/plain": [
              "<Figure size 432x288 with 2 Axes>"
            ]
          },
          "metadata": {
            "tags": [],
            "needs_background": "light"
          }
        }
      ]
    },
    {
      "cell_type": "markdown",
      "metadata": {
        "id": "yFo-fBiJ1rZZ",
        "colab_type": "text"
      },
      "source": [
        "# ROC AUC Plots to Evaluate the Performance of all our Classifiers"
      ]
    },
    {
      "cell_type": "markdown",
      "metadata": {
        "id": "mrgKzfPW1rZa",
        "colab_type": "text"
      },
      "source": [
        "#It is a plot of the false positive rate (x-axis) versus the true positive rate (y-axis) for a number \n",
        "#of different candidate threshold values between 0.0 and 1.0."
      ]
    },
    {
      "cell_type": "code",
      "metadata": {
        "id": "wcP0fe271rZc",
        "colab_type": "code",
        "colab": {},
        "outputId": "99883fc0-788e-48a8-eb16-9249022eda8e"
      },
      "source": [
        "#calculate values for ROC AUC plot\n",
        "gb_roc_auc = roc_auc_score(y_test, gb.predict(x_test))\n",
        "fprgb, tprgb, thresholdsgb = roc_curve(y_test, gb.predict_proba(x_test)[:,1])\n",
        "\n",
        "lr_roc_auc = roc_auc_score(y_test, lr.predict(x_test))\n",
        "fprlr, tprlr, thresholdslr = roc_curve(y_test, lr.predict_proba(x_test)[:,1])\n",
        "\n",
        "gs_roc_auc = roc_auc_score(y_test, gs.predict(x_test))\n",
        "fprgs, tprgs, thresholdsgs = roc_curve(y_test, gs.predict_proba(x_test)[:,1])\n",
        "\n",
        "ad_roc_auc = roc_auc_score(y_test, ad.predict(x_test))\n",
        "fprad, tprad, thresholdsad = roc_curve(y_test, ad.predict_proba(x_test)[:,1])\n",
        "\n",
        "kn_roc_auc = roc_auc_score(y_test, kn.predict(x_test))\n",
        "fprkn, tprkn, thresholdskn = roc_curve(y_test, kn.predict_proba(x_test)[:,1])\n",
        "\n",
        "dt_roc_auc = roc_auc_score(y_test, dt.predict(x_test))\n",
        "fprdt, tprdt, thresholdsdt = roc_curve(y_test, dt.predict_proba(x_test)[:,1])\n",
        "\n",
        "rf_roc_auc = roc_auc_score(y_test, rf.predict(x_test))\n",
        "fprrf, tprrf, thresholdsrt = roc_curve(y_test, rf.predict_proba(x_test)[:,1])\n",
        "\n",
        "svclassifier_roc_auc = roc_auc_score(y_test, svclassifier.predict(x_test))\n",
        "fprsv, tprsv, thresholdssv = roc_curve(y_test, svclassifier.predict_proba(x_test)[:,1])\n",
        "\n",
        "\n",
        "plt.figure(figsize=(10,5))\n",
        "plt.plot(fprgb, tprgb, label='Gradient Boosting Classifier (area = %0.2f)' % gb_roc_auc)\n",
        "plt.plot(fprlr, tprlr, label='Logistics Regression Classifier (area = %0.2f)' % lr_roc_auc)\n",
        "plt.plot(fprgs, tprgs, label='Guassian Naive Bayes Model (area = %0.2f)' % gs_roc_auc)\n",
        "plt.plot(fprsv, tprsv, label='Support Vector Classifier Model (area = %0.2f)' % svclassifier_roc_auc)\n",
        "plt.plot(fprad, tprad, label='Adaboost Model (area = %0.2f)' % ad_roc_auc)\n",
        "plt.plot(fprkn, tprkn, label='K-Nearest Neighbour Model (area = %0.2f)' % kn_roc_auc)\n",
        "plt.plot(fprdt, tprdt, label='Decision Tree Classifier (area = %0.2f)' % dt_roc_auc)\n",
        "plt.plot(fprrf, tprrf, label='Random Forest Classifier (area = %0.2f)' % rf_roc_auc)\n",
        "\n",
        "plt.plot([0, 1], [0, 1],'r--')\n",
        "plt.xlim([0.0, 1.0])\n",
        "plt.ylim([0.0, 1.05])\n",
        "plt.xlabel('False Positive Rate')\n",
        "plt.ylabel('True Positive Rate')\n",
        "plt.title('Receiver operating characteristic')\n",
        "plt.legend(loc=\"lower right\")\n",
        "plt.savefig('Log_ROC')\n",
        "plt.show()"
      ],
      "execution_count": 0,
      "outputs": [
        {
          "output_type": "display_data",
          "data": {
            "image/png": "[encoded data removed]",
            "text/plain": [
              "<Figure size 720x360 with 1 Axes>"
            ]
          },
          "metadata": {
            "tags": [],
            "needs_background": "light"
          }
        }
      ]
    },
    {
      "cell_type": "markdown",
      "metadata": {
        "id": "0bERhdim1rZk",
        "colab_type": "text"
      },
      "source": [
        "#ROC AUC: It tells how much model is capable of seperating classes. \n",
        "#Higher the AUC, better the model is at predicting 0s as 0s and 1s as 1s. \n",
        "#By analogy, Higher the AUC, better the model is at distinguishing between patients with diabetes and no diabetes."
      ]
    }
  ]
}